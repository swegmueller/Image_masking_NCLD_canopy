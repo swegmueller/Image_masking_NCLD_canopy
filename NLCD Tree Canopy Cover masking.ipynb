{
 "cells": [
  {
   "cell_type": "markdown",
   "metadata": {},
   "source": [
    "November 2020\n",
    "\n",
    "This notebook uses the NLCD Tree Canopy Cover Data to mask images of everything but tree cover.  You could probably adjust it for the more familiar Land Cover data, but you're on your own for that one.\n",
    "\n",
    "The code is boiled down into a single function.  You just call it at the bottom of the notebook."
   ]
  },
  {
   "cell_type": "markdown",
   "metadata": {},
   "source": [
    "# Getting USFS NLCD Tree Canopy data\n",
    "\n",
    "This is a big file, but I use it a lot. I save it in a central location so I can pull it for various projects. Just something to be aware of before you start.\n",
    "\n",
    "Go to https://www.mrlc.gov/data?f%5B0%5D=category%3Aland%20cover&f%5B1%5D=region%3Aconus\n",
    "(also the same place you'd get the Land Cover data)\n",
    "\n",
    "Click the \"Tree Canopy\" button at the top, then scroll down to actually see the data.\n",
    "\n",
    "Download the \"NLCD 2016 USFS Tree Canopy Cover (CONUS)\" (or newer if its available). Then go get a cup of joe because it'll take a while.  \n",
    "\n",
    "Unzip it and save it to whatever folder you choose."
   ]
  },
  {
   "cell_type": "code",
   "execution_count": 1,
   "metadata": {},
   "outputs": [],
   "source": [
    "import os\n",
    "from osgeo import gdal, gdal_array\n",
    "import numpy as np\n",
    "import numpy.ma as ma\n",
    "import rasterio"
   ]
  },
  {
   "cell_type": "code",
   "execution_count": 3,
   "metadata": {},
   "outputs": [],
   "source": [
    "### This is the only block you have to change ###\n",
    "\n",
    "# This is where I save my image files and where the masked file will be saved.\n",
    "os.chdir('filepath to images')\n",
    "\n",
    "image_fps = ['image1.tif',\n",
    "            'image2.tif']\n",
    "\n",
    "nlcd_fp = '.../nlcd_2016_treecanopy_2019_08_31/nlcd_2016_treecanopy_2019_08_31.img'\n",
    "\n",
    "sensor = 'Sentinel-2'  # You'll see your options below for sensors that can be used.\n",
    "                       # Really all it does is automate the resampling in the next \n",
    "                       # block. Add to it as you'd like."
   ]
  },
  {
   "cell_type": "code",
   "execution_count": 4,
   "metadata": {},
   "outputs": [],
   "source": [
    "def nlcd_masking(image_fps, nlcd_fp, sensor):\n",
    "    if sensor == 'Dove':\n",
    "        res = 3\n",
    "    elif sensor == 'Sentinel-2':\n",
    "        res = 10\n",
    "    elif sensor == 'Landsat' or sensor == 'HLS':\n",
    "        res = 30   \n",
    "        \n",
    "    # Reproject mask (as needed) and align spatial resolution. Crop mask to image bounds.\n",
    "    for image in image_fps[:1]:\n",
    "        raster = rasterio.open(image)\n",
    "        nlcd = rasterio.open(nlcd_fp)\n",
    "        img_crs = raster.crs\n",
    "        profile = nlcd.profile\n",
    "        nlcd_crs = profile['crs']\n",
    "        limits = [raster.bounds[0], raster.bounds[1], raster.bounds[2], raster.bounds[3]]\n",
    "        # Generate gdal warp options \n",
    "        warp_options = gdal.WarpOptions(format='GTiff', \n",
    "                                        outputBounds=limits,\n",
    "                                        xRes=res,                  \n",
    "                                        yRes=res,\n",
    "                                        srcSRS=nlcd_crs,\n",
    "                                        dstSRS=img_crs,\n",
    "                                        resampleAlg='near',\n",
    "                                        multithread=True)\n",
    "\n",
    "        nlcd_new = 'NLCD_Cropped_Reprojected_Resampled.tif' \n",
    "\n",
    "        create_nlcd_new = gdal.Warp(nlcd_new, nlcd_fp, options=warp_options)\n",
    "        create_nlcd_new = None\n",
    "\n",
    "    #Create mask\n",
    "    nlcd_file = gdal.Open(nlcd_new)\n",
    "    nlcd_data = nlcd_file.GetRasterBand(1)\n",
    "    nlcd_array = gdal_array.BandReadAsArray(nlcd_data)\n",
    "\n",
    "    # Select capopy pixels with greater than 50% canopy cover\n",
    "    nlcd_mask = (nlcd_array < 50)\n",
    "\n",
    "    # Pre-allocate an array \n",
    "    arr = np.zeros((np.shape(nlcd_mask)[0], np.shape(nlcd_mask)[1]),  dtype=np.uint16)  # pre-allocate   \n",
    "\n",
    "    for image_fp in image_fps:\n",
    "        image = gdal.Open(image_fp)\n",
    "\n",
    "        # Pre-allocate an array for masked bands\n",
    "        arr = np.zeros((np.shape(nlcd_mask)[0], np.shape(nlcd_mask)[1], image.RasterCount), dtype=np.uint16)\n",
    "\n",
    "        for loc, band in enumerate(range(1, image.RasterCount+1)):   \n",
    "            band_data = image.GetRasterBand(band)\n",
    "            band_array = gdal_array.BandReadAsArray(band_data)\n",
    "            # Generate masked band with nodata = 0\n",
    "            tmp = ma.masked_array(band_array, nlcd_mask)\n",
    "            arr[:, :, loc] = ma.filled(tmp,0)\n",
    "\n",
    "        # Write image to file\n",
    "        [cols, rows] = band_array.shape\n",
    "        driver = gdal.GetDriverByName('GTiff')\n",
    "        masked_image_fp = '%s_nlcd_masked.tif' %image_fp[:-4]\n",
    "        outdata = driver.Create(masked_image_fp, rows, cols, 6, gdal.GDT_UInt16)\n",
    "        outdata.SetGeoTransform(image.GetGeoTransform())##sets same geotransform as input\n",
    "        outdata.SetProjection(image.GetProjection())##sets same projection as input\n",
    "\n",
    "        for loc, band in enumerate(range(1, image.RasterCount+1)):\n",
    "            outdata.GetRasterBand(band).WriteArray(arr[:, :, loc])\n",
    "            outdata.GetRasterBand(band).SetNoDataValue(0)\n",
    "\n",
    "        outdata.FlushCache() ##saves to disk!!\n",
    "        outdata = None"
   ]
  },
  {
   "cell_type": "code",
   "execution_count": 5,
   "metadata": {},
   "outputs": [],
   "source": [
    "nlcd_masking(image_fps, nlcd_fp, sensor)"
   ]
  }
 ],
 "metadata": {
  "kernelspec": {
   "display_name": "Python 3",
   "language": "python",
   "name": "python3"
  },
  "language_info": {
   "codemirror_mode": {
    "name": "ipython",
    "version": 3
   },
   "file_extension": ".py",
   "mimetype": "text/x-python",
   "name": "python",
   "nbconvert_exporter": "python",
   "pygments_lexer": "ipython3",
   "version": "3.7.7"
  }
 },
 "nbformat": 4,
 "nbformat_minor": 4
}
